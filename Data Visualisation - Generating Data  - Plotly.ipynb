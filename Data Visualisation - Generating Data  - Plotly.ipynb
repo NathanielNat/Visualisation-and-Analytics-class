{
 "cells": [
  {
   "cell_type": "markdown",
   "metadata": {},
   "source": [
    "# Plotly \n",
    "  \n",
    "Let's  eplore a "
   ]
  },
  {
   "cell_type": "code",
   "execution_count": 11,
   "metadata": {},
   "outputs": [
    {
     "name": "stdout",
     "output_type": "stream",
     "text": [
      "[3, 2, 1, 4, 6, 6, 6, 3, 5, 5, 5, 1, 3, 1, 6, 2, 2, 6, 4, 1, 6, 1, 1, 6, 4, 3, 6, 3, 4, 2, 5, 2, 5, 2, 6, 6, 5, 4, 2, 5, 5, 2, 5, 5, 6, 3, 4, 5, 4, 3, 6, 6, 3, 3, 1, 3, 6, 4, 5, 6, 6, 5, 4, 2, 2, 2, 6, 2, 6, 4, 3, 2, 3, 3, 6, 6, 5, 4, 6, 6, 4, 3, 5, 4, 4, 2, 1, 4, 3, 6, 5, 2, 1, 5, 4, 6, 2, 4, 6, 4]\n"
     ]
    }
   ],
   "source": [
    "from random import randint\n",
    "class Die:\n",
    "    \"\"\"A class representing a single die.\"\"\"\n",
    "    def __init__(self, num_sides=6): \n",
    "        \"\"\"Assume a six-sided die.\"\"\"\n",
    "        self.num_sides = num_sides\n",
    "    def roll(self):\n",
    "        \"\"\"\"Return a random value between 1 and number of sides.\"\"\"\n",
    "        return randint(1, self.num_sides)\n",
    "# Create a D6.\n",
    "die = Die()\n",
    "# Make some rolls, and store results in a list.\n",
    "results = []\n",
    "for roll_num in range(100):\n",
    "    result = die.roll() \n",
    "    results.append(result)\n",
    "print(results)"
   ]
  },
  {
   "cell_type": "markdown",
   "metadata": {},
   "source": [
    "####  Analyzing the Results\n",
    "We’ll analyze the results of rolling one D6 by counting how many times we roll each number:"
   ]
  },
  {
   "cell_type": "code",
   "execution_count": 14,
   "metadata": {},
   "outputs": [
    {
     "name": "stdout",
     "output_type": "stream",
     "text": [
      "[170, 150, 149, 169, 179, 183]\n"
     ]
    }
   ],
   "source": [
    "from random import randint\n",
    "class Die:\n",
    "    \"\"\"A class representing a single die.\"\"\"\n",
    "    def __init__(self, num_sides=6): \n",
    "        \"\"\"Assume a six-sided die.\"\"\"\n",
    "        self.num_sides = num_sides\n",
    "    def roll(self):\n",
    "        \"\"\"\"Return a random value between 1 and number of sides.\"\"\"\n",
    "        return randint(1, self.num_sides)\n",
    "# Create a D6.\n",
    "die = Die()\n",
    "# Make some rolls, and store results in a list.\n",
    "results = []\n",
    "for roll_num in range(1000):\n",
    "    result = die.roll() \n",
    "    results.append(result)\n",
    "frequencies = []\n",
    "for value in range(1, die.num_sides+1):\n",
    "    frequency = results.count(value)\n",
    "    frequencies.append(frequency)\n",
    "print(frequencies)\n",
    "#change the range"
   ]
  },
  {
   "cell_type": "markdown",
   "metadata": {},
   "source": [
    "### Making a Histogram\n",
    "\n",
    "### Rolling a A Dice\n",
    "########\n",
    "use code below to intall plotly in \n",
    "import sys\n",
    "!{sys.executable} -m pip install plotly"
   ]
  },
  {
   "cell_type": "code",
   "execution_count": 15,
   "metadata": {},
   "outputs": [
    {
     "data": {
      "text/plain": [
       "'barchat.html'"
      ]
     },
     "execution_count": 15,
     "metadata": {},
     "output_type": "execute_result"
    }
   ],
   "source": [
    "from plotly.graph_objs import Bar, Layout \n",
    "from plotly import offline\n",
    "\n",
    "from random import randint\n",
    "class Die:\n",
    "    \"\"\"A class representing a single die.\"\"\"\n",
    "    def __init__(self, num_sides=6): \n",
    "        \"\"\"Assume a six-sided die.\"\"\"\n",
    "        self.num_sides = num_sides\n",
    "    def roll(self):\n",
    "        \"\"\"\"Return a random value between 1 and number of sides.\"\"\"\n",
    "        return randint(1, self.num_sides)\n",
    "# Create a D6.\n",
    "die = Die()\n",
    "# Make some rolls, and store results in a list.\n",
    "results = []\n",
    "for roll_num in range(1000):\n",
    "    result = die.roll() \n",
    "    results.append(result)\n",
    "frequencies = []\n",
    "for value in range(1, die.num_sides+1):\n",
    "    frequency = results.count(value)\n",
    "    frequencies.append(frequency)\n",
    "# Visualize the results.\n",
    "x_values = list(range(1, die.num_sides+1))\n",
    "data = [Bar(x=x_values, y=frequencies)]\n",
    "x_axis_config = {'title': 'Result'} \n",
    "y_axis_config = {'title': 'Frequency of Result'}\n",
    "my_layout = Layout(title='Results of rolling one D6 1000 times', xaxis=x_axis_config, yaxis=y_axis_config)\n",
    "offline.plot({'data': data, 'layout': my_layout}, filename='barchat.html')"
   ]
  },
  {
   "cell_type": "markdown",
   "metadata": {},
   "source": [
    "### Rolling Two Dice"
   ]
  },
  {
   "cell_type": "code",
   "execution_count": 19,
   "metadata": {},
   "outputs": [
    {
     "data": {
      "text/plain": [
       "'barchat_double.html'"
      ]
     },
     "execution_count": 19,
     "metadata": {},
     "output_type": "execute_result"
    }
   ],
   "source": [
    "from plotly.graph_objs import Bar, Layout \n",
    "from plotly import offline\n",
    "\n",
    "from random import randint\n",
    "class Die:\n",
    "    \"\"\"A class representing a single die.\"\"\"\n",
    "    def __init__(self, num_sides=6): \n",
    "        \"\"\"Assume a six-sided die.\"\"\"\n",
    "        self.num_sides = num_sides\n",
    "    def roll(self):\n",
    "        \"\"\"\"Return a random value between 1 and number of sides.\"\"\"\n",
    "        return randint(1, self.num_sides)\n",
    "# Create a D6.\n",
    "die_1 = Die()\n",
    "die_2 = Die()\n",
    "# Make some rolls, and store results in a list.\n",
    "results = []\n",
    "for roll_num in range(1000):\n",
    "    result = die_1.roll() + die_2.roll()\n",
    "    results.append(result)\n",
    "frequencies = []\n",
    "max_result = die_1.num_sides + die_2.num_sides\n",
    "for value in range(2, max_result+1):\n",
    "    frequency = results.count(value)\n",
    "    frequencies.append(frequency)\n",
    "# Visualize the results.\n",
    "x_values = list(range(2, max_result+1))\n",
    "data = [Bar(x=x_values, y=frequencies)]\n",
    "x_axis_config = {'title': 'Result','dtick':1} \n",
    "y_axis_config = {'title': 'Frequency of Result'}\n",
    "my_layout = Layout(title='Results of rolling one D6 1000 times', xaxis=x_axis_config, yaxis=y_axis_config)\n",
    "offline.plot({'data': data, 'layout': my_layout}, filename='barchat_double.html')"
   ]
  },
  {
   "cell_type": "code",
   "execution_count": null,
   "metadata": {},
   "outputs": [],
   "source": []
  },
  {
   "cell_type": "code",
   "execution_count": null,
   "metadata": {},
   "outputs": [],
   "source": []
  }
 ],
 "metadata": {
  "kernelspec": {
   "display_name": "Python 3",
   "language": "python",
   "name": "python3"
  },
  "language_info": {
   "codemirror_mode": {
    "name": "ipython",
    "version": 3
   },
   "file_extension": ".py",
   "mimetype": "text/x-python",
   "name": "python",
   "nbconvert_exporter": "python",
   "pygments_lexer": "ipython3",
   "version": "3.7.7"
  }
 },
 "nbformat": 4,
 "nbformat_minor": 4
}
