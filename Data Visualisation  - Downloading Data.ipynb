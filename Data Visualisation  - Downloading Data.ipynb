{
 "cells": [
  {
   "cell_type": "markdown",
   "metadata": {},
   "source": [
    "# Data Visualisation\n",
    "##### Data Set  - \n",
    "A data set is a collection of data that is reated to a particular subject.\n",
    "\n",
    "\n",
    "So far we've looked at how data can be visualised using Matplotlib and Plotly. We created simple plots with Matplotlib and used a scatter plot to explore random walks. We also created histograms with Plotly and used them to explore the results of rolling dice of different sizes\n",
    "\n",
    "Next we're going to learn how we can download data from online sources and continue using Matplotlib and Plotly to visualise the data we download.\n",
    "We're going to download data sets from online sources and try to analyse the data and discover patterns in the data given us.\n",
    "\n",
    "We’ll access and visualize data stored in two common data formats, CSV and JSON\n",
    "\n",
    "\n",
    "\n",
    "\n",
    "#### JSON\n",
    "JavaScript Object Notation (JSON) is a standard text-based format for representing structured data based on JavaScript object syntax. It is usually used for transmitting data in web applications.\n",
    "\n",
    "By the end of this chapter, you’ll be prepared to work with different types and data set formats, and also have a deeper understanding of how to build complex visualizations. Being able to access and visualize online data of different types and formats is essential to working with a wide variety of realworld data sets."
   ]
  },
  {
   "cell_type": "markdown",
   "metadata": {},
   "source": [
    "### The CSV File Format\n",
    "A simple way of storing data in a text file is to write the data as a series of values separated by commas, which is called comma-separated values. The resulting files is what is called CSV files.\n",
    "CSV files - A comma-separated values files which allows data to be saved in a tabular format. \n",
    "\n",
    "Name,Email,Phone Number,Home Address\n",
    "Jane Doe,jane@example.com,923-456-7808,123 Church Street\n",
    "John Doe,john@example.com,578-765-6321,321 Mango Avenue\n",
    "\n",
    "CSV files can be tricky for humans\n",
    "to read, but they’re easy for programs to process and extract values from, which speeds up the data analysis process."
   ]
  }
 ],
 "metadata": {
  "kernelspec": {
   "display_name": "Python 3",
   "language": "python",
   "name": "python3"
  },
  "language_info": {
   "codemirror_mode": {
    "name": "ipython",
    "version": 3
   },
   "file_extension": ".py",
   "mimetype": "text/x-python",
   "name": "python",
   "nbconvert_exporter": "python",
   "pygments_lexer": "ipython3",
   "version": "3.7.7"
  }
 },
 "nbformat": 4,
 "nbformat_minor": 4
}
