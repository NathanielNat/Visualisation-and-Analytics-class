{
 "cells": [
  {
   "cell_type": "code",
   "execution_count": null,
   "metadata": {},
   "outputs": [],
   "source": [
    "# try this before the start of the class\n",
    "\n",
    "# TODO: Fix this string!\n",
    "ford_quote = 'Whether you think you can, or you think you can't--you're right.'"
   ]
  },
  {
   "cell_type": "markdown",
   "metadata": {},
   "source": [
    "### Strings \n",
    "\n",
    "Immutable ordered series of characters\n",
    "Symbol is used to repeat strings\n",
    "\n",
    "** "
   ]
  },
  {
   "cell_type": "code",
   "execution_count": 3,
   "metadata": {},
   "outputs": [
    {
     "name": "stdout",
     "output_type": "stream",
     "text": [
      "Hello World ->Hello World ->Hello World ->Hello World ->Hello World ->\n"
     ]
    }
   ],
   "source": [
    "greeting = 'Hello World ->'\n",
    "print(greeting * 5)"
   ]
  },
  {
   "cell_type": "markdown",
   "metadata": {},
   "source": [
    "### len  - to get the length of strings\n"
   ]
  },
  {
   "cell_type": "code",
   "execution_count": 6,
   "metadata": {},
   "outputs": [
    {
     "name": "stdout",
     "output_type": "stream",
     "text": [
      "2\n"
     ]
    }
   ],
   "source": [
    "name = 'Mansa Musa'\n",
    "# print(len(name))\n",
    "## return number of times a character is present in a string return\n",
    "print(name.count('M'))"
   ]
  },
  {
   "cell_type": "markdown",
   "metadata": {},
   "source": [
    "## Data types and operators\n",
    "\n",
    "### Arithmetic Operators\n",
    "\n",
    "+ - / * // ** %\n",
    "\n",
    "BEDMAS:\n",
    "        Brackets\n",
    "        Exponents\n",
    "        Division and Multiplication, left to right\n",
    "        Addition and Subtraction, left to right"
   ]
  },
  {
   "cell_type": "markdown",
   "metadata": {},
   "source": [
    "My electricity bills for the last three months have been $23, $32 and $64. What is the average monthly electricity bill over the three month period? Write an expression to calculate the mean, and use print() to view the result.\n",
    "\n"
   ]
  },
  {
   "cell_type": "markdown",
   "metadata": {},
   "source": [
    "### variables\n",
    "\n",
    "variable name  =(assignment operator) , value\n",
    "\n",
    "\n",
    "### multiple assignments\n",
    "\n",
    "x,y,z = 4,5,6\n",
    "\n",
    "### the += Operator\n",
    "#### -=\n",
    "#### *=\n",
    "#### \n",
    "\n",
    "\n"
   ]
  },
  {
   "cell_type": "markdown",
   "metadata": {},
   "source": [
    "### Integers and Floats\n"
   ]
  },
  {
   "cell_type": "markdown",
   "metadata": {},
   "source": [
    "### Boolean\n",
    "\n",
    "comparison operators\n",
    "\n",
    "<\n",
    ">\n",
    "==\n",
    "<=\n",
    ">=\n",
    "!=\n",
    "\n",
    "logical operators\n"
   ]
  }
 ],
 "metadata": {
  "kernelspec": {
   "display_name": "Python 3",
   "language": "python",
   "name": "python3"
  },
  "language_info": {
   "codemirror_mode": {
    "name": "ipython",
    "version": 3
   },
   "file_extension": ".py",
   "mimetype": "text/x-python",
   "name": "python",
   "nbconvert_exporter": "python",
   "pygments_lexer": "ipython3",
   "version": "3.7.7"
  }
 },
 "nbformat": 4,
 "nbformat_minor": 4
}
