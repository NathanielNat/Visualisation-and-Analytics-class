{
 "cells": [
  {
   "cell_type": "markdown",
   "metadata": {},
   "source": [
    "# What is Data ?\n",
    "Factual information used as a basis for reasoning, discussion, or calculation\n",
    "\n",
    "--information organized for analysis\n",
    "\n",
    "-- information in numerical form that can be digitally transmitted or processed"
   ]
  },
  {
   "cell_type": "markdown",
   "metadata": {},
   "source": [
    "## Why Data Analysis ?\n",
    "Better understanding of data"
   ]
  },
  {
   "cell_type": "markdown",
   "metadata": {},
   "source": [
    "## Types of Data \n",
    "\n",
    "### 1. Quantitative\n",
    "Quantitative data is data that is expressed in numerical terms, in which the numeric values could be large or small. numerical values may correspond to a specific category or label.\n",
    "### 2. Qualitative\n",
    "Data that is represented either in a verbal or narrative format is qualitative data\n",
    "\n",
    "#### Mixed Data"
   ]
  },
  {
   "cell_type": "markdown",
   "metadata": {},
   "source": [
    "### Data Strategies\n",
    "#### 1. Visualizing the Data\n",
    "Involves Creating a visual “picture” or graphic display of the data.\n",
    "It is a way to begin the analysis process; or as an aid to the reporting/ presentation of findings.\n",
    "\n",
    "#### 2. Exploratory Analyses\n",
    "Involves looking at data to identify or describe “what’s going on”? – creating an\n",
    "initial starting point (baseline) for future analysis.\n",
    "\n",
    "#### 3.Trend Analysis\n",
    "Involves looking at data collected at different periods of time. Reason(s): to identify and interpret (and, potentially, estimate) change.\n",
    "Helps to identify and interpret (and, potentially, estimate) change.\n",
    "\n",
    "#### 4.Estimation \n",
    "Using actual data values to predict a future value."
   ]
  },
  {
   "cell_type": "markdown",
   "metadata": {},
   "source": [
    "### Data Analysis Cycle\n",
    "1. Purpose - Purpose of the analysis\n",
    "2. Question(s) - What do we want to know\n",
    "3. Data Collection\n",
    "    - observations\n",
    "    - Questionnaires  I\n",
    "    - Interviews\n",
    "    - Documents\n",
    "    - Tests\n",
    " ##### pitfalls of the collection process to be avoided:\n",
    "• Too little data to answer the question;\n",
    "• More data than is necessary to answer the question; and/or\n",
    "• Data that is not relevant to answering the question."
   ]
  }
 ],
 "metadata": {
  "kernelspec": {
   "display_name": "Python 3",
   "language": "python",
   "name": "python3"
  },
  "language_info": {
   "codemirror_mode": {
    "name": "ipython",
    "version": 3
   },
   "file_extension": ".py",
   "mimetype": "text/x-python",
   "name": "python",
   "nbconvert_exporter": "python",
   "pygments_lexer": "ipython3",
   "version": "3.7.7"
  }
 },
 "nbformat": 4,
 "nbformat_minor": 4
}
